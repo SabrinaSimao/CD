{
 "cells": [
  {
   "cell_type": "markdown",
   "metadata": {},
   "source": [
    "___\n",
    "# Atividade: Teoria da Probabilidade\n",
    "___\n",
    "\n",
    "## Aula 08\n",
    "\n",
    "**Referência de Leitura:**\n",
    "1. Magalhães e Lima (7ª. Edição): pág. 49 a 68 - Probabilidades\n",
    "\n",
    "**Hoje:**\n",
    "1. Conceito de Probabilidade\n",
    "4. Probabilidade Condicional\n",
    "3. Independência de eventos\n",
    "5. Teorema de Bayes. Simulação do problema de Monty Hall\n",
    "\n",
    "**Próxima aula:**\n",
    "1. Magalhães e Lima (7ª. Edição): pág. 69 a 104 - Variáveis aleatórias discretas\n",
    "___"
   ]
  },
  {
   "cell_type": "code",
   "execution_count": 19,
   "metadata": {
    "collapsed": true
   },
   "outputs": [],
   "source": [
    "%matplotlib inline\n",
    "import pandas as pd\n",
    "import matplotlib.pyplot as plt\n",
    "\n",
    "#Bibliotecas necessárias\n",
    "import numpy as np\n"
   ]
  },
  {
   "cell_type": "markdown",
   "metadata": {},
   "source": [
    "## <font color='blue'>Exercício 1</font>\n",
    "\n",
    "Monte a simulação de 1000 jogadas de um dado idôneo de 6 faces. Faça o histograma (normalizado) da frequência.\n",
    "\n",
    "    a) Olhando o histograma, o que pode se dizer sobre as probabilidade de cada face?\n",
    "    \n",
    "    b) Discorra sobre o porque da probabilidade não ser exatamente igual à teórica."
   ]
  },
  {
   "cell_type": "code",
   "execution_count": 39,
   "metadata": {
    "collapsed": false
   },
   "outputs": [
    {
     "data": {
      "text/plain": [
       "(array([ 186.,  166.,  159.,  163.,  168.,  158.]),\n",
       " array([ 0.5,  1.5,  2.5,  3.5,  4.5,  5.5,  6.5]),\n",
       " <a list of 6 Patch objects>)"
      ]
     },
     "execution_count": 39,
     "metadata": {},
     "output_type": "execute_result"
    },
    {
     "data": {
      "image/png": "[encoded data removed]",
      "text/plain": [
       "<matplotlib.figure.Figure at 0x1fe2f7948d0>"
      ]
     },
     "metadata": {},
     "output_type": "display_data"
    }
   ],
   "source": [
    "dado=[1,2,3,4,5,6]\n",
    "d = []\n",
    "for i in range(1000):\n",
    "    u = random.choice(dado)\n",
    "    d.append(u)\n",
    "    \n",
    "#s = pd.Series(d)\n",
    "#s.plot.hist(bins=6)\n",
    "b = np.arange(0.5,7,1)\n",
    "plt.hist(d,bins=b, color=\"m\")   \n"
   ]
  },
  {
   "cell_type": "markdown",
   "metadata": {},
   "source": [
    "### Todas as faces tem probabilidade semelhante, porém o historgrama mostra que não pode ser igual a realidade, visto que são poucas iterações. Além disso, não podemos dizer DE VERDADE que a função random do phyton é aleatória de verdade, visto que existem algorítmos por trás do computador que a calculam."
   ]
  },
  {
   "cell_type": "markdown",
   "metadata": {},
   "source": [
    "___\n",
    "## <font color='blue'>Exercício 2</font>\n",
    "\n",
    "Ampliando o espaço amostral para as possíveis jogadas de 2 dados, analise as seguintes situações:\n",
    "    \n",
    "    a) Jogando os dois dados ao mesmo tempo. Qual é a probabilidade de obter soma 7?\n",
    "    \n",
    "    b) Jogando um dado e depois o segundo dado. Qual é a probabilidade de obter soma 7 já sabendo o resultado do primeiro? Compare o resultado com item anterior! Por que é igual ou diferente?"
   ]
  },
  {
   "cell_type": "code",
   "execution_count": 47,
   "metadata": {
    "collapsed": false
   },
   "outputs": [
    {
     "name": "stdout",
     "output_type": "stream",
     "text": [
      "16.33\n",
      "83.67\n"
     ]
    }
   ],
   "source": [
    "#2+5, 3+4, 1+6\n",
    "t = 0\n",
    "l = 0\n",
    "n0 = 10000\n",
    "for i in range(n0):\n",
    "    d1 = random.choice(dado)\n",
    "    d2 = random.choice(dado)\n",
    "    if d1 + d2 == 7:\n",
    "        t += 1\n",
    "    else:\n",
    "        l += 1\n",
    "print((t/n0)*100)\n",
    "print((l/n0)*100)"
   ]
  },
  {
   "cell_type": "code",
   "execution_count": 52,
   "metadata": {
    "collapsed": false
   },
   "outputs": [
    {
     "name": "stdout",
     "output_type": "stream",
     "text": [
      "16.45\n",
      "83.55\n"
     ]
    },
    {
     "data": {
      "text/plain": [
       "'O resultado é igual, pois saber o primeiro resultado não muda de fato a chance de dar a soma'"
      ]
     },
     "execution_count": 52,
     "metadata": {},
     "output_type": "execute_result"
    }
   ],
   "source": [
    "t2 = 0\n",
    "l2 = 0\n",
    "for i in range(n0):\n",
    "    d12 = random.choice(dado)\n",
    "    d22 = random.choice(dado)\n",
    "    if (7 - d12 == d22):\n",
    "        t2 += 1\n",
    "    else:\n",
    "        l2 += 1\n",
    "print((t2/n0)*100)\n",
    "print((l2/n0)*100)\n",
    "\n",
    "\"\"\"O resultado é igual, pois saber o primeiro resultado não muda de fato a chance de dar a soma\"\"\""
   ]
  },
  {
   "cell_type": "markdown",
   "metadata": {},
   "source": [
    "___\n",
    "## <font color='blue'>Exercício 3</font>\n",
    "\n",
    "Simule 10000 vezes o problema de Monty Hall¹ , usar o seguinte algoritmo:\n",
    "\n",
    "\n",
    "* Repetir 10000 vezes:\n",
    "    * Sorteie um número de porta de 1 a 3 para ser a premiada\n",
    "    * Sorteie um número de porta de 1 a 3 para ser a porta escolhida.\n",
    "    * Sorteie um número de porta para ser a aberta, desde que não seja a premiada e nem a porta escolhida. Assim, se:\n",
    "        * porta premiada é 1 e a escolhida é 1, sorteie entre as portas 2 e 3 para ser aberta\n",
    "        * porta premiada é 1 e a escolhida é 2, com probabilidade 1 deve abrir a porta 3\n",
    "        * porta premiada é 1 e a escolhida é 3, com probabilidade 1 deve abrir a porta 2\n",
    "        * assim para demais casos...\n",
    "    \n",
    "    * Calcule quantas vezes indivíduo ganha ao trocar de porta. Ou seja, se:\n",
    "        * porta premiada é 1, a escolhida é 1 e aberta é 2 (ou 3), indivíduo perde se trocar de porta\n",
    "        * porta premiada é 1, a escolhida é 2 e aberta é 3, indivíduo ganha se trocar de porta\n",
    "        * porta premiada é 1, a escolhida é 3 e aberta é 2, indivíduo ganha se trocar de porta\n",
    "        * assim para demais casos...\n",
    "        \n",
    "    * Exibir quantas vezes em 10000, o indivíduo ganhou ao trocar de porta.\n",
    "\n",
    "Compare o resultado numérico com o resultado analítico obtido via Teorema de Bayes.\n",
    "\n",
    "¹https://en.wikipedia.org/wiki/Monty_Hall_problem e \n",
    "Exercício 1.4.5 de http://www.portalaction.com.br/probabilidades/14-eventos-independentes-e-probabilidade-condicional"
   ]
  },
  {
   "cell_type": "code",
   "execution_count": 3,
   "metadata": {
    "collapsed": false
   },
   "outputs": [
    {
     "name": "stdout",
     "output_type": "stream",
     "text": [
      "Carros ganhos: 66573\n",
      "Bodes ganhos: 33427\n",
      "Você ganhou um carro 66.57300000000001% das vezes\n"
     ]
    }
   ],
   "source": [
    "import random\n",
    "\n",
    "play = 100000\n",
    "door = [\"Bode\", \"Bode\", \"Carro\"]\n",
    "loss = 0\n",
    "win = 0\n",
    "\n",
    "for i in range(play):\n",
    "\n",
    "    a = random.randrange(0,3)\n",
    "    choose = door[a]\n",
    "    #vc escolhe o numero a. Se vc trocar, em a=0 vc ganha, em a=1 vc tb ganha e em a=2 vc perde :(\n",
    "    #ps: isso somente se o cara te mostrar a porta do bode!\n",
    "    if a == 0 or a == 1:\n",
    "        win += 1\n",
    "    else:\n",
    "        loss += 1\n",
    "\n",
    "porcentagem = (win/play) * 100\n",
    "print(\"Carros ganhos: {0}\".format(win))\n",
    "print(\"Bodes ganhos: {0}\" .format(loss))\n",
    "print(\"Você ganhou um carro {0}% das vezes\".format(porcentagem))"
   ]
  },
  {
   "cell_type": "markdown",
   "metadata": {},
   "source": [
    "### O resultado do problema da aproximadamente 66% de vitória, que é um número próximo a 2/3. Como dito no primeiro exercício, o único problema é saber quão aleatório de verdade é a função do python, pois há um algorítmo funcionando por trás."
   ]
  },
  {
   "cell_type": "code",
   "execution_count": null,
   "metadata": {
    "collapsed": true
   },
   "outputs": [],
   "source": []
  }
 ],
 "metadata": {
  "anaconda-cloud": {},
  "kernelspec": {
   "display_name": "Python 3",
   "language": "python",
   "name": "python3"
  },
  "language_info": {
   "codemirror_mode": {
    "name": "ipython",
    "version": 3
   },
   "file_extension": ".py",
   "mimetype": "text/x-python",
   "name": "python",
   "nbconvert_exporter": "python",
   "pygments_lexer": "ipython3",
   "version": "3.5.1"
  }
 },
 "nbformat": 4,
 "nbformat_minor": 0
}
