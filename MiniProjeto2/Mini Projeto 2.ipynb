{
 "cells": [
  {
   "cell_type": "markdown",
   "metadata": {},
   "source": [
    "# Mini-Projeto 2\n",
    "\n",
    "### Sabrina Sampaio, Isabella Oliveira, Thiago Carletti\n"
   ]
  },
  {
   "cell_type": "code",
   "execution_count": 1,
   "metadata": {
    "collapsed": false
   },
   "outputs": [],
   "source": [
    "import pandas as pd\n",
    "import matplotlib.pyplot as plt\n",
    "import numpy as np\n",
    "from scipy import stats\n",
    "%matplotlib inline"
   ]
  },
  {
   "cell_type": "markdown",
   "metadata": {},
   "source": [
    "## Trabalhando com Teorema do Limite Central para uma distribuição exponencial"
   ]
  },
  {
   "cell_type": "markdown",
   "metadata": {},
   "source": [
    "##### 1-b)"
   ]
  },
  {
   "cell_type": "code",
   "execution_count": 2,
   "metadata": {
    "collapsed": false
   },
   "outputs": [
    {
     "data": {
      "text/plain": [
       "array([ 4.12972677,  1.86889208,  1.41665493, ...,  0.12963719,\n",
       "        0.21179154,  0.51378351])"
      ]
     },
     "execution_count": 2,
     "metadata": {},
     "output_type": "execute_result"
    }
   ],
   "source": [
    "pop = stats.expon.rvs(size = 1000000)\n",
    "pop"
   ]
  },
  {
   "cell_type": "markdown",
   "metadata": {},
   "source": [
    "##### 1-c)"
   ]
  },
  {
   "cell_type": "code",
   "execution_count": 3,
   "metadata": {
    "collapsed": false
   },
   "outputs": [
    {
     "name": "stdout",
     "output_type": "stream",
     "text": [
      "Média populacional:\n",
      "0.99987910812\n",
      "\n",
      "Variância Populacional:\n",
      "0.997482548425\n"
     ]
    }
   ],
   "source": [
    "mediap = np.mean(pop)\n",
    "varp = np.var(pop)\n",
    "print (\"Média populacional:\")\n",
    "print (mediap)\n",
    "print()\n",
    "print(\"Variância Populacional:\")\n",
    "print(varp)\n"
   ]
  },
  {
   "cell_type": "markdown",
   "metadata": {},
   "source": [
    "##### 2-"
   ]
  },
  {
   "cell_type": "markdown",
   "metadata": {},
   "source": [
    "##### b)"
   ]
  },
  {
   "cell_type": "code",
   "execution_count": 4,
   "metadata": {
    "collapsed": false
   },
   "outputs": [
    {
     "data": {
      "text/plain": [
       "array([ 0.02652396,  1.50695315])"
      ]
     },
     "execution_count": 4,
     "metadata": {},
     "output_type": "execute_result"
    }
   ],
   "source": [
    "amostra = np.random.choice(pop, size=2)\n",
    "amostra"
   ]
  },
  {
   "cell_type": "markdown",
   "metadata": {},
   "source": [
    "##### c)"
   ]
  },
  {
   "cell_type": "code",
   "execution_count": 5,
   "metadata": {
    "collapsed": false
   },
   "outputs": [
    {
     "name": "stdout",
     "output_type": "stream",
     "text": [
      "Média amostral:\n",
      "0.766738554396\n"
     ]
    }
   ],
   "source": [
    "mediaa = np.mean(amostra)\n",
    "print (\"Média amostral:\")\n",
    "print (mediaa)\n"
   ]
  },
  {
   "cell_type": "markdown",
   "metadata": {},
   "source": [
    "##### d)"
   ]
  },
  {
   "cell_type": "code",
   "execution_count": 6,
   "metadata": {
    "collapsed": false,
    "scrolled": true
   },
   "outputs": [],
   "source": [
    "listama2 = []\n",
    "for i in range(10000):\n",
    "    amostra2 = np.random.choice(pop, size=2)\n",
    "    mediaa2 = np.mean(amostra2)\n",
    "    listama2.append(mediaa2)\n",
    "    \n"
   ]
  },
  {
   "cell_type": "markdown",
   "metadata": {},
   "source": [
    "##### e)"
   ]
  },
  {
   "cell_type": "code",
   "execution_count": 7,
   "metadata": {
    "collapsed": false
   },
   "outputs": [
    {
     "data": {
      "image/png": "[encoded data removed]",
      "text/plain": [
       "<matplotlib.figure.Figure at 0x2359bd93c88>"
      ]
     },
     "metadata": {},
     "output_type": "display_data"
    }
   ],
   "source": [
    "plt.hist(listama2)\n",
    "plt.show()\n"
   ]
  },
  {
   "cell_type": "markdown",
   "metadata": {},
   "source": [
    "##### f)"
   ]
  },
  {
   "cell_type": "markdown",
   "metadata": {},
   "source": [
    "Para valores pequenos de 'n', temos uma aproximação menos refinada; obtendo uma exponencial. Ao aumentarmos os valores de 'n' teremos uma aproximação mais real, obtendo uma normal."
   ]
  },
  {
   "cell_type": "markdown",
   "metadata": {},
   "source": [
    "##### 3- "
   ]
  },
  {
   "cell_type": "code",
   "execution_count": 17,
   "metadata": {
    "collapsed": false
   },
   "outputs": [],
   "source": [
    "# n = 4\n",
    "listama4 = []\n",
    "for i in range(10000):\n",
    "    amostra4 = np.random.choice(pop, size=4)\n",
    "    mediaa4 = np.mean(amostra4)\n",
    "    listama4.append(mediaa4)\n",
    "    \n",
    "#print(listama4)\n",
    "\n",
    "# n = 20\n",
    "listama20 = []\n",
    "for i in range(10000):\n",
    "    amostra20 = np.random.choice(pop, size=20)\n",
    "    mediaa20 = np.mean(amostra20)\n",
    "    listama20.append(mediaa20)\n",
    "    \n",
    "#print(listama20)\n",
    "\n",
    "# n = 50\n",
    "listama50 = []\n",
    "for i in range(10000):\n",
    "    amostra50 = np.random.choice(pop, size=50)\n",
    "    mediaa50 = np.mean(amostra50)\n",
    "    listama50.append(mediaa50)\n",
    "    \n"
   ]
  },
  {
   "cell_type": "code",
   "execution_count": 9,
   "metadata": {
    "collapsed": false
   },
   "outputs": [
    {
     "data": {
      "image/png": "[encoded data removed]",
      "text/plain": [
       "<matplotlib.figure.Figure at 0x2359c753780>"
      ]
     },
     "metadata": {},
     "output_type": "display_data"
    }
   ],
   "source": [
    "plt.hist(listama4, color=\"m\")\n",
    "plt.show()"
   ]
  },
  {
   "cell_type": "code",
   "execution_count": 10,
   "metadata": {
    "collapsed": false
   },
   "outputs": [
    {
     "data": {
      "image/png": "[encoded data removed]",
      "text/plain": [
       "<matplotlib.figure.Figure at 0x2359c819b70>"
      ]
     },
     "metadata": {},
     "output_type": "display_data"
    }
   ],
   "source": [
    "plt.hist(listama20, color=\"m\")\n",
    "plt.show()"
   ]
  },
  {
   "cell_type": "code",
   "execution_count": 11,
   "metadata": {
    "collapsed": false
   },
   "outputs": [
    {
     "data": {
      "image/png": "[encoded data removed]",
      "text/plain": [
       "<matplotlib.figure.Figure at 0x2359c899668>"
      ]
     },
     "metadata": {},
     "output_type": "display_data"
    }
   ],
   "source": [
    "plt.hist(listama50, color=\"m\")\n",
    "plt.show()"
   ]
  },
  {
   "cell_type": "markdown",
   "metadata": {},
   "source": [
    "##### 4-"
   ]
  },
  {
   "cell_type": "markdown",
   "metadata": {},
   "source": [
    "Como visto pelo TLC, não importa como nossa população se comporta, quando fizermos a media de varias amostras desta população, a amostra será uma distribuição normal.\n",
    "Obviamente, para uma amostra muito pequena, isso não chega a acontecer, como quando fizemos n = 2.\n",
    "Mas quando aumentamos bastante o n, percebe-se que a media forma uma distribuição normal, como visto no histograma acima."
   ]
  },
  {
   "cell_type": "markdown",
   "metadata": {},
   "source": [
    "##### i."
   ]
  },
  {
   "cell_type": "code",
   "execution_count": 18,
   "metadata": {
    "collapsed": false
   },
   "outputs": [],
   "source": [
    "X1 = []\n",
    "X9 = []\n",
    "for i in range(10000):\n",
    "    amostra_50 = np.random.choice(pop, size=50)\n",
    "    x1 = amostra_50[0]\n",
    "    X1.append(x1)\n",
    "    x9 = amostra_50[8]\n",
    "    X9.append(x9)\n",
    "\n",
    "#print(X1)\n",
    "#print(X9)"
   ]
  },
  {
   "cell_type": "markdown",
   "metadata": {},
   "source": [
    "##### ii."
   ]
  },
  {
   "cell_type": "code",
   "execution_count": 13,
   "metadata": {
    "collapsed": false
   },
   "outputs": [
    {
     "data": {
      "image/png": "[encoded data removed]",
      "text/plain": [
       "<matplotlib.figure.Figure at 0x2359c87d6d8>"
      ]
     },
     "metadata": {},
     "output_type": "display_data"
    }
   ],
   "source": [
    "plt.hist(X1, color=\"m\")\n",
    "plt.show()"
   ]
  },
  {
   "cell_type": "markdown",
   "metadata": {},
   "source": [
    "##### iii."
   ]
  },
  {
   "cell_type": "code",
   "execution_count": 14,
   "metadata": {
    "collapsed": false
   },
   "outputs": [
    {
     "data": {
      "image/png": "[encoded data removed]",
      "text/plain": [
       "<matplotlib.figure.Figure at 0x2359c8b4c50>"
      ]
     },
     "metadata": {},
     "output_type": "display_data"
    }
   ],
   "source": [
    "plt.hist(X9, color=\"m\")\n",
    "plt.show()"
   ]
  },
  {
   "cell_type": "markdown",
   "metadata": {},
   "source": [
    "##### iv."
   ]
  },
  {
   "cell_type": "markdown",
   "metadata": {},
   "source": [
    "Os histogramas de X1 e X9 são semelhantes ao de X, pois ambos são exponenciais."
   ]
  },
  {
   "cell_type": "markdown",
   "metadata": {},
   "source": [
    "##### v."
   ]
  },
  {
   "cell_type": "code",
   "execution_count": 16,
   "metadata": {
    "collapsed": false
   },
   "outputs": [
    {
     "name": "stdout",
     "output_type": "stream",
     "text": [
      "-0.00915450125612\n",
      "A correlação é próxima de 0, como deveria ser, pois estes dados são aleatórios!\n"
     ]
    }
   ],
   "source": [
    "k = 0\n",
    "for i in range(10000):\n",
    "    cov = ((X1[i]-np.mean(X1))*(X9[i]-np.mean(X9)))\n",
    "    k += cov\n",
    "    c = k/10000\n",
    "print(c)\n",
    "print('A correlação é próxima de 0, como deveria ser, pois estes dados são aleatórios!')"
   ]
  },
  {
   "cell_type": "code",
   "execution_count": null,
   "metadata": {
    "collapsed": true
   },
   "outputs": [],
   "source": []
  }
 ],
 "metadata": {
  "kernelspec": {
   "display_name": "Python 3",
   "language": "python",
   "name": "python3"
  },
  "language_info": {
   "codemirror_mode": {
    "name": "ipython",
    "version": 3
   },
   "file_extension": ".py",
   "mimetype": "text/x-python",
   "name": "python",
   "nbconvert_exporter": "python",
   "pygments_lexer": "ipython3",
   "version": "3.5.1"
  }
 },
 "nbformat": 4,
 "nbformat_minor": 0
}
