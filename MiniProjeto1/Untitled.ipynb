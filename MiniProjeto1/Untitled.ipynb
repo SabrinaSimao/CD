{
 "cells": [
  {
   "cell_type": "code",
   "execution_count": null,
   "metadata": {
    "collapsed": false
   },
   "outputs": [],
   "source": [
    "from scipy.stats import weibull_min\n",
    "import matplotlib.pyplot as plt\n",
    "import numpy as np\n",
    "fig, ax = plt.subplots(1, 1)\n",
    "\n",
    "\n",
    "c = 1.79\n",
    "mean, var, skew, kurt = weibull_min.stats(c, moments='mvsk')\n",
    "\n",
    "\n",
    "\n",
    "x = np.linspace(weibull_min.ppf(0.01, c), weibull_min.ppf(0.99, c), 100)\n",
    "ax.plot(x, weibull_min.pdf(x, c),'r-', lw=5, alpha=0.6, label='weibull_min pdf')\n",
    "rv = weibull_min(c)\n",
    "ax.plot(x, rv.pdf(x), 'k-', lw=2, label='frozen pdf')\n",
    "vals = weibull_min.ppf([0.001, 0.5, 0.999], c)\n",
    "np.allclose([0.001, 0.5, 0.999], weibull_min.cdf(vals, c))\n",
    "True\n",
    "\n",
    "r = weibull_min.rvs(c, size=1000)\n",
    "ax.hist(r, normed=True, histtype='stepfilled', alpha=0.2)\n",
    "ax.legend(loc='best', frameon=False)\n",
    "plt.show()"
   ]
  },
  {
   "cell_type": "code",
   "execution_count": null,
   "metadata": {
    "collapsed": true
   },
   "outputs": [],
   "source": []
  }
 ],
 "metadata": {
  "kernelspec": {
   "display_name": "Python 3",
   "language": "python",
   "name": "python3"
  },
  "language_info": {
   "codemirror_mode": {
    "name": "ipython",
    "version": 3
   },
   "file_extension": ".py",
   "mimetype": "text/x-python",
   "name": "python",
   "nbconvert_exporter": "python",
   "pygments_lexer": "ipython3",
   "version": "3.5.1"
  }
 },
 "nbformat": 4,
 "nbformat_minor": 0
}
