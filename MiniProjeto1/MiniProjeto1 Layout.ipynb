{
 "cells": [
  {
   "cell_type": "markdown",
   "metadata": {},
   "source": [
    "___\n",
    "# MINIPROJETO 1"
   ]
  },
  {
   "cell_type": "markdown",
   "metadata": {},
   "source": [
    "## <font color='red'>Sabrina Sampaio Simão</font>\n",
    "___"
   ]
  },
  {
   "cell_type": "markdown",
   "metadata": {},
   "source": [
    "## <font color='blue'>Notas de escolas americanas no SAT</font>"
   ]
  },
  {
   "cell_type": "markdown",
   "metadata": {},
   "source": [
    "___\n",
    "### Itens 1 a 3 - Resolução:"
   ]
  },
  {
   "cell_type": "code",
   "execution_count": 214,
   "metadata": {
    "collapsed": false
   },
   "outputs": [
    {
     "name": "stdout",
     "output_type": "stream",
     "text": [
      "Esperamos trabalhar no diretório\n",
      "C:\\Users\\sabri\\Documents\\GitHub\\CD\\MiniProjeto1\n"
     ]
    }
   ],
   "source": [
    "%matplotlib inline\n",
    "import pandas as pd\n",
    "import matplotlib.pyplot as plt\n",
    "import numpy as np\n",
    "import os\n",
    "import scipy.stats as s\n",
    "\n",
    "print('Esperamos trabalhar no diretório')\n",
    "print(os.getcwd())"
   ]
  },
  {
   "cell_type": "code",
   "execution_count": 215,
   "metadata": {
    "collapsed": false,
    "scrolled": true
   },
   "outputs": [],
   "source": [
    "dados = pd.read_csv(\"SAT.csv\")"
   ]
  },
  {
   "cell_type": "markdown",
   "metadata": {},
   "source": [
    "### <font color = orange> Será feita a soma das 3 notas do SAT: Leitura, Matemática e Escrita, e serão plotadas em uma nova coluna. Todas as 4 notas serão avaliadas pelos histogramas, mas antes, uma limpeza será feita na tabela!</font color>"
   ]
  },
  {
   "cell_type": "code",
   "execution_count": 216,
   "metadata": {
    "collapsed": false,
    "scrolled": true
   },
   "outputs": [
    {
     "data": {
      "text/html": [
       "<div>\n",
       "<table border=\"1\" class=\"dataframe\">\n",
       "  <thead>\n",
       "    <tr style=\"text-align: right;\">\n",
       "      <th></th>\n",
       "      <th>DBN</th>\n",
       "      <th>School Name</th>\n",
       "      <th>Number of Test Takers</th>\n",
       "      <th>CRM</th>\n",
       "      <th>MM</th>\n",
       "      <th>WM</th>\n",
       "      <th>SOMA</th>\n",
       "    </tr>\n",
       "  </thead>\n",
       "  <tbody>\n",
       "    <tr>\n",
       "      <th>0</th>\n",
       "      <td>01M292</td>\n",
       "      <td>Henry Street School for International Studies</td>\n",
       "      <td>31</td>\n",
       "      <td>391</td>\n",
       "      <td>425</td>\n",
       "      <td>385</td>\n",
       "      <td>1201</td>\n",
       "    </tr>\n",
       "    <tr>\n",
       "      <th>1</th>\n",
       "      <td>01M448</td>\n",
       "      <td>University Neighborhood High School</td>\n",
       "      <td>60</td>\n",
       "      <td>394</td>\n",
       "      <td>419</td>\n",
       "      <td>387</td>\n",
       "      <td>1200</td>\n",
       "    </tr>\n",
       "    <tr>\n",
       "      <th>2</th>\n",
       "      <td>01M450</td>\n",
       "      <td>East Side Community High School</td>\n",
       "      <td>69</td>\n",
       "      <td>418</td>\n",
       "      <td>431</td>\n",
       "      <td>402</td>\n",
       "      <td>1251</td>\n",
       "    </tr>\n",
       "    <tr>\n",
       "      <th>3</th>\n",
       "      <td>01M458</td>\n",
       "      <td>SATELLITE ACADEMY FORSYTH ST</td>\n",
       "      <td>26</td>\n",
       "      <td>385</td>\n",
       "      <td>370</td>\n",
       "      <td>378</td>\n",
       "      <td>1133</td>\n",
       "    </tr>\n",
       "    <tr>\n",
       "      <th>4</th>\n",
       "      <td>01M509</td>\n",
       "      <td>CMSP HIGH SCHOOL</td>\n",
       "      <td>0</td>\n",
       "      <td>NaN</td>\n",
       "      <td>NaN</td>\n",
       "      <td>NaN</td>\n",
       "      <td>NaN</td>\n",
       "    </tr>\n",
       "    <tr>\n",
       "      <th>5</th>\n",
       "      <td>01M515</td>\n",
       "      <td>Lower East Side Preparatory High School</td>\n",
       "      <td>154</td>\n",
       "      <td>314</td>\n",
       "      <td>532</td>\n",
       "      <td>314</td>\n",
       "      <td>1160</td>\n",
       "    </tr>\n",
       "    <tr>\n",
       "      <th>6</th>\n",
       "      <td>01M539,\"New Explorations into Sci, Tech and Ma...</td>\n",
       "      <td>NaN</td>\n",
       "      <td>NaN</td>\n",
       "      <td>NaN</td>\n",
       "      <td>NaN</td>\n",
       "      <td>NaN</td>\n",
       "      <td>NaN</td>\n",
       "    </tr>\n",
       "    <tr>\n",
       "      <th>7</th>\n",
       "      <td>01M650</td>\n",
       "      <td>CASCADES HIGH SCHOOL</td>\n",
       "      <td>35</td>\n",
       "      <td>411</td>\n",
       "      <td>401</td>\n",
       "      <td>401</td>\n",
       "      <td>1213</td>\n",
       "    </tr>\n",
       "    <tr>\n",
       "      <th>8</th>\n",
       "      <td>01M696</td>\n",
       "      <td>BARD HIGH SCHOOL EARLY COLLEGE</td>\n",
       "      <td>138</td>\n",
       "      <td>630</td>\n",
       "      <td>608</td>\n",
       "      <td>630</td>\n",
       "      <td>1868</td>\n",
       "    </tr>\n",
       "    <tr>\n",
       "      <th>9</th>\n",
       "      <td>02M047</td>\n",
       "      <td>AMERICAN SIGN LANG ENG DUAL</td>\n",
       "      <td>11</td>\n",
       "      <td>405</td>\n",
       "      <td>415</td>\n",
       "      <td>385</td>\n",
       "      <td>1205</td>\n",
       "    </tr>\n",
       "    <tr>\n",
       "      <th>10</th>\n",
       "      <td>02M288</td>\n",
       "      <td>FOOD AND FNANCE HIGH SCHOOL</td>\n",
       "      <td>50</td>\n",
       "      <td>422</td>\n",
       "      <td>412</td>\n",
       "      <td>407</td>\n",
       "      <td>1241</td>\n",
       "    </tr>\n",
       "    <tr>\n",
       "      <th>11</th>\n",
       "      <td>02M294</td>\n",
       "      <td>HIGH SCHOOL FOR HIST AND COMM</td>\n",
       "      <td>51</td>\n",
       "      <td>382</td>\n",
       "      <td>364</td>\n",
       "      <td>366</td>\n",
       "      <td>1112</td>\n",
       "    </tr>\n",
       "    <tr>\n",
       "      <th>12</th>\n",
       "      <td>02M296</td>\n",
       "      <td>High School of Hospitality Management</td>\n",
       "      <td>43</td>\n",
       "      <td>397</td>\n",
       "      <td>415</td>\n",
       "      <td>391</td>\n",
       "      <td>1203</td>\n",
       "    </tr>\n",
       "    <tr>\n",
       "      <th>13</th>\n",
       "      <td>02M298</td>\n",
       "      <td>PACE HIGH SCHOOL</td>\n",
       "      <td>71</td>\n",
       "      <td>424</td>\n",
       "      <td>448</td>\n",
       "      <td>423</td>\n",
       "      <td>1295</td>\n",
       "    </tr>\n",
       "    <tr>\n",
       "      <th>14</th>\n",
       "      <td>02M300</td>\n",
       "      <td>Urban Assembly School of Design and Construction</td>\n",
       "      <td>49</td>\n",
       "      <td>405</td>\n",
       "      <td>446</td>\n",
       "      <td>415</td>\n",
       "      <td>1266</td>\n",
       "    </tr>\n",
       "    <tr>\n",
       "      <th>15</th>\n",
       "      <td>02M303</td>\n",
       "      <td>The Facing History School</td>\n",
       "      <td>59</td>\n",
       "      <td>381</td>\n",
       "      <td>373</td>\n",
       "      <td>377</td>\n",
       "      <td>1131</td>\n",
       "    </tr>\n",
       "    <tr>\n",
       "      <th>16</th>\n",
       "      <td>02M305</td>\n",
       "      <td>Urban Assembly Academy of Government and Law</td>\n",
       "      <td>48</td>\n",
       "      <td>411</td>\n",
       "      <td>406</td>\n",
       "      <td>411</td>\n",
       "      <td>1228</td>\n",
       "    </tr>\n",
       "    <tr>\n",
       "      <th>17</th>\n",
       "      <td>02M308</td>\n",
       "      <td>LOWER MANHATTAN ARTS ACADEMY</td>\n",
       "      <td>35</td>\n",
       "      <td>409</td>\n",
       "      <td>381</td>\n",
       "      <td>412</td>\n",
       "      <td>1202</td>\n",
       "    </tr>\n",
       "    <tr>\n",
       "      <th>18</th>\n",
       "      <td>02M313</td>\n",
       "      <td>The James Baldwin School</td>\n",
       "      <td>45</td>\n",
       "      <td>421</td>\n",
       "      <td>419</td>\n",
       "      <td>394</td>\n",
       "      <td>1234</td>\n",
       "    </tr>\n",
       "    <tr>\n",
       "      <th>19</th>\n",
       "      <td>02M316</td>\n",
       "      <td>Urban Assembly School of Business for Young Wo...</td>\n",
       "      <td>52</td>\n",
       "      <td>401</td>\n",
       "      <td>409</td>\n",
       "      <td>391</td>\n",
       "      <td>1201</td>\n",
       "    </tr>\n",
       "    <tr>\n",
       "      <th>20</th>\n",
       "      <td>02M374</td>\n",
       "      <td>GRAMERCY ARTS HIGH SCHOOL</td>\n",
       "      <td>49</td>\n",
       "      <td>395</td>\n",
       "      <td>376</td>\n",
       "      <td>386</td>\n",
       "      <td>1157</td>\n",
       "    </tr>\n",
       "    <tr>\n",
       "      <th>21</th>\n",
       "      <td>02M376</td>\n",
       "      <td>NYC iSchool</td>\n",
       "      <td>0</td>\n",
       "      <td>NaN</td>\n",
       "      <td>NaN</td>\n",
       "      <td>NaN</td>\n",
       "      <td>NaN</td>\n",
       "    </tr>\n",
       "    <tr>\n",
       "      <th>22</th>\n",
       "      <td>02M400</td>\n",
       "      <td>HIGH SCHOOL ENVRNMNTL STUDIES</td>\n",
       "      <td>216</td>\n",
       "      <td>465</td>\n",
       "      <td>480</td>\n",
       "      <td>448</td>\n",
       "      <td>1393</td>\n",
       "    </tr>\n",
       "    <tr>\n",
       "      <th>23</th>\n",
       "      <td>02M407</td>\n",
       "      <td>Institute for Collaborative Education</td>\n",
       "      <td>42</td>\n",
       "      <td>484</td>\n",
       "      <td>478</td>\n",
       "      <td>472</td>\n",
       "      <td>1434</td>\n",
       "    </tr>\n",
       "    <tr>\n",
       "      <th>24</th>\n",
       "      <td>02M408</td>\n",
       "      <td>Professional Performng Arts School</td>\n",
       "      <td>69</td>\n",
       "      <td>495</td>\n",
       "      <td>465</td>\n",
       "      <td>499</td>\n",
       "      <td>1459</td>\n",
       "    </tr>\n",
       "    <tr>\n",
       "      <th>25</th>\n",
       "      <td>02M411</td>\n",
       "      <td>Baruch College Campus High School</td>\n",
       "      <td>96</td>\n",
       "      <td>523</td>\n",
       "      <td>583</td>\n",
       "      <td>528</td>\n",
       "      <td>1634</td>\n",
       "    </tr>\n",
       "    <tr>\n",
       "      <th>26</th>\n",
       "      <td>02M412</td>\n",
       "      <td>New York City Laboratory School Collab Studies</td>\n",
       "      <td>108</td>\n",
       "      <td>561</td>\n",
       "      <td>597</td>\n",
       "      <td>567</td>\n",
       "      <td>1725</td>\n",
       "    </tr>\n",
       "    <tr>\n",
       "      <th>27</th>\n",
       "      <td>02M413</td>\n",
       "      <td>SCHOOL OF THE FUTURE</td>\n",
       "      <td>79</td>\n",
       "      <td>475</td>\n",
       "      <td>488</td>\n",
       "      <td>466</td>\n",
       "      <td>1429</td>\n",
       "    </tr>\n",
       "    <tr>\n",
       "      <th>28</th>\n",
       "      <td>02M414</td>\n",
       "      <td>NEW YORK CITY MUSEUM SCHOOL</td>\n",
       "      <td>90</td>\n",
       "      <td>454</td>\n",
       "      <td>448</td>\n",
       "      <td>435</td>\n",
       "      <td>1337</td>\n",
       "    </tr>\n",
       "    <tr>\n",
       "      <th>29</th>\n",
       "      <td>02M416</td>\n",
       "      <td>ELEANOR ROOSEVELT HIGH SCHOOL</td>\n",
       "      <td>122</td>\n",
       "      <td>555</td>\n",
       "      <td>596</td>\n",
       "      <td>567</td>\n",
       "      <td>1718</td>\n",
       "    </tr>\n",
       "    <tr>\n",
       "      <th>...</th>\n",
       "      <td>...</td>\n",
       "      <td>...</td>\n",
       "      <td>...</td>\n",
       "      <td>...</td>\n",
       "      <td>...</td>\n",
       "      <td>...</td>\n",
       "      <td>...</td>\n",
       "    </tr>\n",
       "    <tr>\n",
       "      <th>430</th>\n",
       "      <td>30Q555</td>\n",
       "      <td>NEWCOMERS HIGH SCHOOL</td>\n",
       "      <td>147</td>\n",
       "      <td>343</td>\n",
       "      <td>447</td>\n",
       "      <td>346</td>\n",
       "      <td>1136</td>\n",
       "    </tr>\n",
       "    <tr>\n",
       "      <th>431</th>\n",
       "      <td>30Q575</td>\n",
       "      <td>ACADEMY OF AMERICAN STUDIES</td>\n",
       "      <td>120</td>\n",
       "      <td>502</td>\n",
       "      <td>505</td>\n",
       "      <td>515</td>\n",
       "      <td>1522</td>\n",
       "    </tr>\n",
       "    <tr>\n",
       "      <th>432</th>\n",
       "      <td>30Q580</td>\n",
       "      <td>BACCALAUREATE SCH GLOBAL EDUC</td>\n",
       "      <td>64</td>\n",
       "      <td>560</td>\n",
       "      <td>587</td>\n",
       "      <td>570</td>\n",
       "      <td>1717</td>\n",
       "    </tr>\n",
       "    <tr>\n",
       "      <th>433</th>\n",
       "      <td>31R064</td>\n",
       "      <td>Gaynor McCown Expeditionary Learning School</td>\n",
       "      <td>0</td>\n",
       "      <td>NaN</td>\n",
       "      <td>NaN</td>\n",
       "      <td>NaN</td>\n",
       "      <td>NaN</td>\n",
       "    </tr>\n",
       "    <tr>\n",
       "      <th>434</th>\n",
       "      <td>31R080</td>\n",
       "      <td>MICHAEL J PETRIDES SCHOOL</td>\n",
       "      <td>86</td>\n",
       "      <td>508</td>\n",
       "      <td>523</td>\n",
       "      <td>502</td>\n",
       "      <td>1533</td>\n",
       "    </tr>\n",
       "    <tr>\n",
       "      <th>435</th>\n",
       "      <td>31R440</td>\n",
       "      <td>NEW DORP HIGH SCHOOL</td>\n",
       "      <td>282</td>\n",
       "      <td>431</td>\n",
       "      <td>446</td>\n",
       "      <td>434</td>\n",
       "      <td>1311</td>\n",
       "    </tr>\n",
       "    <tr>\n",
       "      <th>436</th>\n",
       "      <td>31R445</td>\n",
       "      <td>PORT RICHMOND HIGH SCHOOL</td>\n",
       "      <td>237</td>\n",
       "      <td>437</td>\n",
       "      <td>442</td>\n",
       "      <td>425</td>\n",
       "      <td>1304</td>\n",
       "    </tr>\n",
       "    <tr>\n",
       "      <th>437</th>\n",
       "      <td>31R450</td>\n",
       "      <td>CURTIS HIGH SCHOOL</td>\n",
       "      <td>373</td>\n",
       "      <td>439</td>\n",
       "      <td>441</td>\n",
       "      <td>430</td>\n",
       "      <td>1310</td>\n",
       "    </tr>\n",
       "    <tr>\n",
       "      <th>438</th>\n",
       "      <td>31R455</td>\n",
       "      <td>TOTTENVILLE HIGH SCHOOL</td>\n",
       "      <td>698</td>\n",
       "      <td>459</td>\n",
       "      <td>482</td>\n",
       "      <td>467</td>\n",
       "      <td>1408</td>\n",
       "    </tr>\n",
       "    <tr>\n",
       "      <th>439</th>\n",
       "      <td>31R460</td>\n",
       "      <td>SUSAN E WAGNER HIGH SCHOOL</td>\n",
       "      <td>531</td>\n",
       "      <td>463</td>\n",
       "      <td>482</td>\n",
       "      <td>457</td>\n",
       "      <td>1402</td>\n",
       "    </tr>\n",
       "    <tr>\n",
       "      <th>440</th>\n",
       "      <td>31R470</td>\n",
       "      <td>CONCORD HIGH SCHOOL</td>\n",
       "      <td>10</td>\n",
       "      <td>474</td>\n",
       "      <td>431</td>\n",
       "      <td>397</td>\n",
       "      <td>1302</td>\n",
       "    </tr>\n",
       "    <tr>\n",
       "      <th>441</th>\n",
       "      <td>31R600</td>\n",
       "      <td>RALPH MCKEE VOC-TECH HIGH SCH</td>\n",
       "      <td>48</td>\n",
       "      <td>411</td>\n",
       "      <td>429</td>\n",
       "      <td>386</td>\n",
       "      <td>1226</td>\n",
       "    </tr>\n",
       "    <tr>\n",
       "      <th>442</th>\n",
       "      <td>31R605</td>\n",
       "      <td>STATEN ISLAND TECHNICAL HIGH SCHOOL</td>\n",
       "      <td>287</td>\n",
       "      <td>638</td>\n",
       "      <td>673</td>\n",
       "      <td>617</td>\n",
       "      <td>1928</td>\n",
       "    </tr>\n",
       "    <tr>\n",
       "      <th>443</th>\n",
       "      <td>32K403</td>\n",
       "      <td>ACADEMY OF ENVIRONMENTAL LEADERSHIP</td>\n",
       "      <td>36</td>\n",
       "      <td>382</td>\n",
       "      <td>369</td>\n",
       "      <td>374</td>\n",
       "      <td>1125</td>\n",
       "    </tr>\n",
       "    <tr>\n",
       "      <th>444</th>\n",
       "      <td>32K480</td>\n",
       "      <td>Bushwick High School</td>\n",
       "      <td>0</td>\n",
       "      <td>NaN</td>\n",
       "      <td>NaN</td>\n",
       "      <td>NaN</td>\n",
       "      <td>NaN</td>\n",
       "    </tr>\n",
       "    <tr>\n",
       "      <th>445</th>\n",
       "      <td>32K545</td>\n",
       "      <td>EBC High School for Public Service - Bushwick</td>\n",
       "      <td>82</td>\n",
       "      <td>389</td>\n",
       "      <td>390</td>\n",
       "      <td>376</td>\n",
       "      <td>1155</td>\n",
       "    </tr>\n",
       "    <tr>\n",
       "      <th>446</th>\n",
       "      <td>32K549</td>\n",
       "      <td>BUSHWICK HS FOR SOCIAL JUSTICE</td>\n",
       "      <td>72</td>\n",
       "      <td>363</td>\n",
       "      <td>364</td>\n",
       "      <td>358</td>\n",
       "      <td>1085</td>\n",
       "    </tr>\n",
       "    <tr>\n",
       "      <th>447</th>\n",
       "      <td>32K552</td>\n",
       "      <td>Academy of Urban Planning</td>\n",
       "      <td>49</td>\n",
       "      <td>355</td>\n",
       "      <td>361</td>\n",
       "      <td>353</td>\n",
       "      <td>1069</td>\n",
       "    </tr>\n",
       "    <tr>\n",
       "      <th>448</th>\n",
       "      <td>32K554</td>\n",
       "      <td>ALL CITY LEADERSHIP SECONDARY</td>\n",
       "      <td>29</td>\n",
       "      <td>394</td>\n",
       "      <td>420</td>\n",
       "      <td>395</td>\n",
       "      <td>1209</td>\n",
       "    </tr>\n",
       "    <tr>\n",
       "      <th>449</th>\n",
       "      <td>32K556</td>\n",
       "      <td>Bushwick Leaders High School for Academic Excel</td>\n",
       "      <td>30</td>\n",
       "      <td>357</td>\n",
       "      <td>345</td>\n",
       "      <td>351</td>\n",
       "      <td>1053</td>\n",
       "    </tr>\n",
       "    <tr>\n",
       "      <th>450</th>\n",
       "      <td>72X470</td>\n",
       "      <td>South Bronx High School</td>\n",
       "      <td>0</td>\n",
       "      <td>NaN</td>\n",
       "      <td>NaN</td>\n",
       "      <td>NaN</td>\n",
       "      <td>NaN</td>\n",
       "    </tr>\n",
       "    <tr>\n",
       "      <th>451</th>\n",
       "      <td>75K371</td>\n",
       "      <td>LILLIAN L RASHKIS HS P371K</td>\n",
       "      <td>0</td>\n",
       "      <td>NaN</td>\n",
       "      <td>NaN</td>\n",
       "      <td>NaN</td>\n",
       "      <td>NaN</td>\n",
       "    </tr>\n",
       "    <tr>\n",
       "      <th>452</th>\n",
       "      <td>75M035</td>\n",
       "      <td>MANHATTAN HIGH SCHOOL - P35M</td>\n",
       "      <td>0</td>\n",
       "      <td>NaN</td>\n",
       "      <td>NaN</td>\n",
       "      <td>NaN</td>\n",
       "      <td>NaN</td>\n",
       "    </tr>\n",
       "    <tr>\n",
       "      <th>453</th>\n",
       "      <td>75Q004</td>\n",
       "      <td>P4Q SCHOOL (@ 179)</td>\n",
       "      <td>0</td>\n",
       "      <td>NaN</td>\n",
       "      <td>NaN</td>\n",
       "      <td>NaN</td>\n",
       "      <td>NaN</td>\n",
       "    </tr>\n",
       "    <tr>\n",
       "      <th>454</th>\n",
       "      <td>75Q256</td>\n",
       "      <td>P256 QUEENS SCHOOL @ SAINT MARY'S</td>\n",
       "      <td>0</td>\n",
       "      <td>NaN</td>\n",
       "      <td>NaN</td>\n",
       "      <td>NaN</td>\n",
       "      <td>NaN</td>\n",
       "    </tr>\n",
       "    <tr>\n",
       "      <th>455</th>\n",
       "      <td>75R025</td>\n",
       "      <td>South Richmond High School</td>\n",
       "      <td>10</td>\n",
       "      <td>407</td>\n",
       "      <td>421</td>\n",
       "      <td>400</td>\n",
       "      <td>1228</td>\n",
       "    </tr>\n",
       "    <tr>\n",
       "      <th>456</th>\n",
       "      <td>75X012</td>\n",
       "      <td>PS12X LEWIS AND CLARK SCHOOL</td>\n",
       "      <td>0</td>\n",
       "      <td>NaN</td>\n",
       "      <td>NaN</td>\n",
       "      <td>NaN</td>\n",
       "      <td>NaN</td>\n",
       "    </tr>\n",
       "    <tr>\n",
       "      <th>457</th>\n",
       "      <td>75X754</td>\n",
       "      <td>P754 X - Jeffrey M. Rapport School for Career ...</td>\n",
       "      <td>0</td>\n",
       "      <td>NaN</td>\n",
       "      <td>NaN</td>\n",
       "      <td>NaN</td>\n",
       "      <td>NaN</td>\n",
       "    </tr>\n",
       "    <tr>\n",
       "      <th>458</th>\n",
       "      <td>76K460</td>\n",
       "      <td>John Jay High School</td>\n",
       "      <td>9</td>\n",
       "      <td>390</td>\n",
       "      <td>381</td>\n",
       "      <td>398</td>\n",
       "      <td>1169</td>\n",
       "    </tr>\n",
       "    <tr>\n",
       "      <th>459</th>\n",
       "      <td>79X490</td>\n",
       "      <td>PHOENIX SCHOOL</td>\n",
       "      <td>7</td>\n",
       "      <td>404</td>\n",
       "      <td>423</td>\n",
       "      <td>416</td>\n",
       "      <td>1243</td>\n",
       "    </tr>\n",
       "  </tbody>\n",
       "</table>\n",
       "<p>460 rows × 7 columns</p>\n",
       "</div>"
      ],
      "text/plain": [
       "                                                   DBN  \\\n",
       "0                                               01M292   \n",
       "1                                               01M448   \n",
       "2                                               01M450   \n",
       "3                                               01M458   \n",
       "4                                               01M509   \n",
       "5                                               01M515   \n",
       "6    01M539,\"New Explorations into Sci, Tech and Ma...   \n",
       "7                                               01M650   \n",
       "8                                               01M696   \n",
       "9                                               02M047   \n",
       "10                                              02M288   \n",
       "11                                              02M294   \n",
       "12                                              02M296   \n",
       "13                                              02M298   \n",
       "14                                              02M300   \n",
       "15                                              02M303   \n",
       "16                                              02M305   \n",
       "17                                              02M308   \n",
       "18                                              02M313   \n",
       "19                                              02M316   \n",
       "20                                              02M374   \n",
       "21                                              02M376   \n",
       "22                                              02M400   \n",
       "23                                              02M407   \n",
       "24                                              02M408   \n",
       "25                                              02M411   \n",
       "26                                              02M412   \n",
       "27                                              02M413   \n",
       "28                                              02M414   \n",
       "29                                              02M416   \n",
       "..                                                 ...   \n",
       "430                                             30Q555   \n",
       "431                                             30Q575   \n",
       "432                                             30Q580   \n",
       "433                                             31R064   \n",
       "434                                             31R080   \n",
       "435                                             31R440   \n",
       "436                                             31R445   \n",
       "437                                             31R450   \n",
       "438                                             31R455   \n",
       "439                                             31R460   \n",
       "440                                             31R470   \n",
       "441                                             31R600   \n",
       "442                                             31R605   \n",
       "443                                             32K403   \n",
       "444                                             32K480   \n",
       "445                                             32K545   \n",
       "446                                             32K549   \n",
       "447                                             32K552   \n",
       "448                                             32K554   \n",
       "449                                             32K556   \n",
       "450                                             72X470   \n",
       "451                                             75K371   \n",
       "452                                             75M035   \n",
       "453                                             75Q004   \n",
       "454                                             75Q256   \n",
       "455                                             75R025   \n",
       "456                                             75X012   \n",
       "457                                             75X754   \n",
       "458                                             76K460   \n",
       "459                                             79X490   \n",
       "\n",
       "                                           School Name  Number of Test Takers  \\\n",
       "0       Henry Street School for International Studies                      31   \n",
       "1                 University Neighborhood High School                      60   \n",
       "2                     East Side Community High School                      69   \n",
       "3                        SATELLITE ACADEMY FORSYTH ST                      26   \n",
       "4                                    CMSP HIGH SCHOOL                       0   \n",
       "5             Lower East Side Preparatory High School                     154   \n",
       "6                                                  NaN                    NaN   \n",
       "7                                CASCADES HIGH SCHOOL                      35   \n",
       "8                      BARD HIGH SCHOOL EARLY COLLEGE                     138   \n",
       "9                         AMERICAN SIGN LANG ENG DUAL                      11   \n",
       "10                        FOOD AND FNANCE HIGH SCHOOL                      50   \n",
       "11                      HIGH SCHOOL FOR HIST AND COMM                      51   \n",
       "12              High School of Hospitality Management                      43   \n",
       "13                                   PACE HIGH SCHOOL                      71   \n",
       "14   Urban Assembly School of Design and Construction                      49   \n",
       "15                          The Facing History School                      59   \n",
       "16       Urban Assembly Academy of Government and Law                      48   \n",
       "17                       LOWER MANHATTAN ARTS ACADEMY                      35   \n",
       "18                           The James Baldwin School                      45   \n",
       "19   Urban Assembly School of Business for Young Wo...                     52   \n",
       "20                          GRAMERCY ARTS HIGH SCHOOL                      49   \n",
       "21                                        NYC iSchool                       0   \n",
       "22                      HIGH SCHOOL ENVRNMNTL STUDIES                     216   \n",
       "23              Institute for Collaborative Education                      42   \n",
       "24                 Professional Performng Arts School                      69   \n",
       "25                  Baruch College Campus High School                      96   \n",
       "26     New York City Laboratory School Collab Studies                     108   \n",
       "27                               SCHOOL OF THE FUTURE                      79   \n",
       "28                        NEW YORK CITY MUSEUM SCHOOL                      90   \n",
       "29                      ELEANOR ROOSEVELT HIGH SCHOOL                     122   \n",
       "..                                                 ...                    ...   \n",
       "430                             NEWCOMERS HIGH SCHOOL                     147   \n",
       "431                       ACADEMY OF AMERICAN STUDIES                     120   \n",
       "432                     BACCALAUREATE SCH GLOBAL EDUC                      64   \n",
       "433       Gaynor McCown Expeditionary Learning School                       0   \n",
       "434                         MICHAEL J PETRIDES SCHOOL                      86   \n",
       "435                              NEW DORP HIGH SCHOOL                     282   \n",
       "436                         PORT RICHMOND HIGH SCHOOL                     237   \n",
       "437                                CURTIS HIGH SCHOOL                     373   \n",
       "438                           TOTTENVILLE HIGH SCHOOL                     698   \n",
       "439                        SUSAN E WAGNER HIGH SCHOOL                     531   \n",
       "440                               CONCORD HIGH SCHOOL                      10   \n",
       "441                     RALPH MCKEE VOC-TECH HIGH SCH                      48   \n",
       "442               STATEN ISLAND TECHNICAL HIGH SCHOOL                     287   \n",
       "443               ACADEMY OF ENVIRONMENTAL LEADERSHIP                      36   \n",
       "444                              Bushwick High School                       0   \n",
       "445     EBC High School for Public Service - Bushwick                      82   \n",
       "446                    BUSHWICK HS FOR SOCIAL JUSTICE                      72   \n",
       "447                         Academy of Urban Planning                      49   \n",
       "448                     ALL CITY LEADERSHIP SECONDARY                      29   \n",
       "449   Bushwick Leaders High School for Academic Excel                      30   \n",
       "450                           South Bronx High School                       0   \n",
       "451                        LILLIAN L RASHKIS HS P371K                       0   \n",
       "452                      MANHATTAN HIGH SCHOOL - P35M                       0   \n",
       "453                                P4Q SCHOOL (@ 179)                       0   \n",
       "454                 P256 QUEENS SCHOOL @ SAINT MARY'S                       0   \n",
       "455                        South Richmond High School                      10   \n",
       "456                      PS12X LEWIS AND CLARK SCHOOL                       0   \n",
       "457  P754 X - Jeffrey M. Rapport School for Career ...                      0   \n",
       "458                              John Jay High School                       9   \n",
       "459                                    PHOENIX SCHOOL                       7   \n",
       "\n",
       "     CRM   MM   WM  SOMA  \n",
       "0    391  425  385  1201  \n",
       "1    394  419  387  1200  \n",
       "2    418  431  402  1251  \n",
       "3    385  370  378  1133  \n",
       "4    NaN  NaN  NaN   NaN  \n",
       "5    314  532  314  1160  \n",
       "6    NaN  NaN  NaN   NaN  \n",
       "7    411  401  401  1213  \n",
       "8    630  608  630  1868  \n",
       "9    405  415  385  1205  \n",
       "10   422  412  407  1241  \n",
       "11   382  364  366  1112  \n",
       "12   397  415  391  1203  \n",
       "13   424  448  423  1295  \n",
       "14   405  446  415  1266  \n",
       "15   381  373  377  1131  \n",
       "16   411  406  411  1228  \n",
       "17   409  381  412  1202  \n",
       "18   421  419  394  1234  \n",
       "19   401  409  391  1201  \n",
       "20   395  376  386  1157  \n",
       "21   NaN  NaN  NaN   NaN  \n",
       "22   465  480  448  1393  \n",
       "23   484  478  472  1434  \n",
       "24   495  465  499  1459  \n",
       "25   523  583  528  1634  \n",
       "26   561  597  567  1725  \n",
       "27   475  488  466  1429  \n",
       "28   454  448  435  1337  \n",
       "29   555  596  567  1718  \n",
       "..   ...  ...  ...   ...  \n",
       "430  343  447  346  1136  \n",
       "431  502  505  515  1522  \n",
       "432  560  587  570  1717  \n",
       "433  NaN  NaN  NaN   NaN  \n",
       "434  508  523  502  1533  \n",
       "435  431  446  434  1311  \n",
       "436  437  442  425  1304  \n",
       "437  439  441  430  1310  \n",
       "438  459  482  467  1408  \n",
       "439  463  482  457  1402  \n",
       "440  474  431  397  1302  \n",
       "441  411  429  386  1226  \n",
       "442  638  673  617  1928  \n",
       "443  382  369  374  1125  \n",
       "444  NaN  NaN  NaN   NaN  \n",
       "445  389  390  376  1155  \n",
       "446  363  364  358  1085  \n",
       "447  355  361  353  1069  \n",
       "448  394  420  395  1209  \n",
       "449  357  345  351  1053  \n",
       "450  NaN  NaN  NaN   NaN  \n",
       "451  NaN  NaN  NaN   NaN  \n",
       "452  NaN  NaN  NaN   NaN  \n",
       "453  NaN  NaN  NaN   NaN  \n",
       "454  NaN  NaN  NaN   NaN  \n",
       "455  407  421  400  1228  \n",
       "456  NaN  NaN  NaN   NaN  \n",
       "457  NaN  NaN  NaN   NaN  \n",
       "458  390  381  398  1169  \n",
       "459  404  423  416  1243  \n",
       "\n",
       "[460 rows x 7 columns]"
      ]
     },
     "execution_count": 216,
     "metadata": {},
     "output_type": "execute_result"
    }
   ],
   "source": [
    "dados['SOMA'] = dados.CRM + dados.MM + dados.WM\n",
    "dados"
   ]
  },
  {
   "cell_type": "code",
   "execution_count": 217,
   "metadata": {
    "collapsed": true
   },
   "outputs": [],
   "source": [
    "sat = dados.iloc[:,3:]"
   ]
  },
  {
   "cell_type": "markdown",
   "metadata": {},
   "source": [
    "### <font color = purple> Os 4 histogramas abaixo aparentam ter distribuição de Weibull, mas um pode falar que algumas se parecem com curvas normais</font color>"
   ]
  },
  {
   "cell_type": "code",
   "execution_count": 218,
   "metadata": {
    "collapsed": false,
    "scrolled": false
   },
   "outputs": [
    {
     "data": {
      "text/plain": [
       "array([[<matplotlib.axes._subplots.AxesSubplot object at 0x000001A96E6EC198>,\n",
       "        <matplotlib.axes._subplots.AxesSubplot object at 0x000001A96B11AAC8>],\n",
       "       [<matplotlib.axes._subplots.AxesSubplot object at 0x000001A96D1F8E10>,\n",
       "        <matplotlib.axes._subplots.AxesSubplot object at 0x000001A96ADC6940>]], dtype=object)"
      ]
     },
     "execution_count": 218,
     "metadata": {},
     "output_type": "execute_result"
    },
    {
     "data": {
      "image/png": "[encoded data removed]",
      "text/plain": [
       "<matplotlib.figure.Figure at 0x1a96e6ec978>"
      ]
     },
     "metadata": {},
     "output_type": "display_data"
    }
   ],
   "source": [
    "sat.hist(figsize=(10,10), color='m', normed=True, bins=20)"
   ]
  },
  {
   "cell_type": "code",
   "execution_count": 219,
   "metadata": {
    "collapsed": false
   },
   "outputs": [
    {
     "data": {
      "text/html": [
       "<div>\n",
       "<table border=\"1\" class=\"dataframe\">\n",
       "  <thead>\n",
       "    <tr style=\"text-align: right;\">\n",
       "      <th></th>\n",
       "      <th>CRM</th>\n",
       "      <th>MM</th>\n",
       "      <th>WM</th>\n",
       "      <th>SOMA</th>\n",
       "    </tr>\n",
       "  </thead>\n",
       "  <tbody>\n",
       "    <tr>\n",
       "      <th>0</th>\n",
       "      <td>385</td>\n",
       "      <td>358</td>\n",
       "      <td>364</td>\n",
       "      <td>1108</td>\n",
       "    </tr>\n",
       "    <tr>\n",
       "      <th>1</th>\n",
       "      <td>393</td>\n",
       "      <td>369</td>\n",
       "      <td>368</td>\n",
       "      <td>1136</td>\n",
       "    </tr>\n",
       "    <tr>\n",
       "      <th>2</th>\n",
       "      <td>416</td>\n",
       "      <td>385</td>\n",
       "      <td>NaN</td>\n",
       "      <td>NaN</td>\n",
       "    </tr>\n",
       "  </tbody>\n",
       "</table>\n",
       "</div>"
      ],
      "text/plain": [
       "   CRM   MM   WM  SOMA\n",
       "0  385  358  364  1108\n",
       "1  393  369  368  1136\n",
       "2  416  385  NaN   NaN"
      ]
     },
     "execution_count": 219,
     "metadata": {},
     "output_type": "execute_result"
    }
   ],
   "source": [
    "sat.mode()"
   ]
  },
  {
   "cell_type": "code",
   "execution_count": 220,
   "metadata": {
    "collapsed": false
   },
   "outputs": [
    {
     "data": {
      "text/plain": [
       "CRM      392.5\n",
       "MM       394.5\n",
       "WM       383.0\n",
       "SOMA    1170.0\n",
       "dtype: float64"
      ]
     },
     "execution_count": 220,
     "metadata": {},
     "output_type": "execute_result"
    }
   ],
   "source": [
    "sat.median()"
   ]
  },
  {
   "cell_type": "code",
   "execution_count": 221,
   "metadata": {
    "collapsed": false
   },
   "outputs": [
    {
     "data": {
      "text/plain": [
       "CRM      404.073684\n",
       "MM       412.660526\n",
       "WM       397.489474\n",
       "SOMA    1214.223684\n",
       "dtype: float64"
      ]
     },
     "execution_count": 221,
     "metadata": {},
     "output_type": "execute_result"
    }
   ],
   "source": [
    "sat.mean()"
   ]
  },
  {
   "cell_type": "markdown",
   "metadata": {},
   "source": [
    "### <font color = purple> Quando a Media > Mediana > Moda temos uma Assimetria Positiva <font color>"
   ]
  },
  {
   "cell_type": "markdown",
   "metadata": {},
   "source": [
    "### <font color = purple> Como vamos trabalhar sempre com a soma total das notas, temos como FDP's possiveis: Distribuição de Rayleigh ou Distribuição de Weibull. Ambas distribuições começam crescendo rapidamente e, após atingirem o pico, decrescem mais lentamente do que antes. Não considerei a de Poisson pois os dados não são discretos.<font color>"
   ]
  },
  {
   "cell_type": "markdown",
   "metadata": {
    "collapsed": true
   },
   "source": [
    "___\n",
    "### Itens 4 a 6 - Resolução:"
   ]
  },
  {
   "cell_type": "code",
   "execution_count": 222,
   "metadata": {
    "collapsed": false
   },
   "outputs": [
    {
     "data": {
      "text/plain": [
       "<matplotlib.axes._subplots.AxesSubplot at 0x1a96eab79e8>"
      ]
     },
     "execution_count": 222,
     "metadata": {},
     "output_type": "execute_result"
    },
    {
     "data": {
      "image/png": "[encoded data removed]",
      "text/plain": [
       "<matplotlib.figure.Figure at 0x1a96a1ba2e8>"
      ]
     },
     "metadata": {},
     "output_type": "display_data"
    }
   ],
   "source": [
    "SOMA1 = sat.SOMA\n",
    "soma = SOMA1.dropna()\n",
    "soma.hist(normed=True, color=\"m\", bins=40)"
   ]
  },
  {
   "cell_type": "code",
   "execution_count": 223,
   "metadata": {
    "collapsed": false
   },
   "outputs": [],
   "source": [
    "a = s.alpha.fit(soma)\n",
    "a1,loc,scale = s.alpha.fit(soma)"
   ]
  },
  {
   "cell_type": "code",
   "execution_count": 224,
   "metadata": {
    "collapsed": false
   },
   "outputs": [
    {
     "data": {
      "text/plain": [
       "[<matplotlib.lines.Line2D at 0x1a96ed37da0>]"
      ]
     },
     "execution_count": 224,
     "metadata": {},
     "output_type": "execute_result"
    },
    {
     "data": {
      "image/png": "[encoded data removed]",
      "text/plain": [
       "<matplotlib.figure.Figure at 0x1a96ed37dd8>"
      ]
     },
     "metadata": {},
     "output_type": "display_data"
    }
   ],
   "source": [
    "x = np.linspace(800, 2200, 40)\n",
    "ap = s.alpha.pdf(x, a1,loc,scale)\n",
    "soma.hist(normed=True, color=\"m\", bins=40)\n",
    "plt.plot(x, ap, '-', color='green', label=\"Alpha\") "
   ]
  },
  {
   "cell_type": "code",
   "execution_count": 265,
   "metadata": {
    "collapsed": false
   },
   "outputs": [
    {
     "data": {
      "text/plain": [
       "(859.64772145035363, 227.97724564587574)"
      ]
     },
     "execution_count": 265,
     "metadata": {},
     "output_type": "execute_result"
    }
   ],
   "source": [
    "s.maxwell.fit(soma)"
   ]
  },
  {
   "cell_type": "code",
   "execution_count": 275,
   "metadata": {
    "collapsed": false
   },
   "outputs": [
    {
     "data": {
      "text/plain": [
       "[<matplotlib.lines.Line2D at 0x1a974583ef0>]"
      ]
     },
     "execution_count": 275,
     "metadata": {},
     "output_type": "execute_result"
    },
    {
     "data": {
      "image/png": "[encoded data removed]",
      "text/plain": [
       "<matplotlib.figure.Figure at 0x1a974583cc0>"
      ]
     },
     "metadata": {},
     "output_type": "display_data"
    }
   ],
   "source": [
    "x = np.linspace(800, 2200, 40)\n",
    "bp = s.maxwell.pdf(x,970,110)\n",
    "soma.hist(normed=True, color=\"m\", bins=40)\n",
    "plt.plot(x, bp, '-', color='green', label=\"Alpha\") "
   ]
  },
  {
   "cell_type": "code",
   "execution_count": 276,
   "metadata": {
    "collapsed": false
   },
   "outputs": [
    {
     "data": {
      "text/plain": [
       "(21.83609496253672,\n",
       " 0.48250049693899899,\n",
       " 869.16535505489173,\n",
       " 0.54911627410642794)"
      ]
     },
     "execution_count": 276,
     "metadata": {},
     "output_type": "execute_result"
    }
   ],
   "source": [
    "s.gengamma.fit(soma)"
   ]
  },
  {
   "cell_type": "code",
   "execution_count": 301,
   "metadata": {
    "collapsed": false
   },
   "outputs": [
    {
     "data": {
      "text/plain": [
       "[<matplotlib.lines.Line2D at 0x1a97695f9b0>]"
      ]
     },
     "execution_count": 301,
     "metadata": {},
     "output_type": "execute_result"
    },
    {
     "data": {
      "image/png": "[encoded data removed]",
      "text/plain": [
       "<matplotlib.figure.Figure at 0x1a976840e80>"
      ]
     },
     "metadata": {},
     "output_type": "display_data"
    }
   ],
   "source": [
    "x = np.linspace(800, 2200, 40)\n",
    "bp = s.gengamma.pdf(x,21,0.522,900,0.7)\n",
    "soma.hist(normed=True, color=\"m\", bins=40)\n",
    "plt.plot(x, bp, '-', color='green', label=\"Alpha\") "
   ]
  },
  {
   "cell_type": "markdown",
   "metadata": {},
   "source": [
    "## É impossível achar a função perfeita para este DataFrame. Testei uma por uma, todas as funções do Scipy, e o fit de nenhuma faz um gráfico descente. Mesmo alterando os parâmetros para ficarem mais aceitaveis, o Q-Q Plot não fica equilibrado, havendo muita diferença entre os valores."
   ]
  },
  {
   "cell_type": "markdown",
   "metadata": {
    "collapsed": true
   },
   "source": [
    "___\n",
    "### Itens 7 a 9 - Resolução:"
   ]
  },
  {
   "cell_type": "code",
   "execution_count": 305,
   "metadata": {
    "collapsed": false,
    "scrolled": false
   },
   "outputs": [
    {
     "data": {
      "text/plain": [
       "[<matplotlib.lines.Line2D at 0x1a97815af60>]"
      ]
     },
     "execution_count": 305,
     "metadata": {},
     "output_type": "execute_result"
    },
    {
     "data": {
      "image/png": "[encoded data removed]",
      "text/plain": [
       "<matplotlib.figure.Figure at 0x1a977f846a0>"
      ]
     },
     "metadata": {},
     "output_type": "display_data"
    }
   ],
   "source": [
    "fra = [] \n",
    "for i in range(len(soma)):\n",
    "    acc = (i - 0.5) / len(soma)\n",
    "    if acc < 0:\n",
    "        acc = 0\n",
    "    fra.append(acc)\n",
    "\n",
    "\n",
    "fra = pd.Series(data=fra)\n",
    "\n",
    "q_alpha = s.alpha.ppf(fra, a1,loc,scale) \n",
    "q_maxwell = s.maxwell.ppf(fra, 970,110)\n",
    "\n",
    "\n",
    "fig = plt.figure(figsize=(12,9))\n",
    "\n",
    "plt.title(\"Q-Q plot: Dados x Alpha x Log Normal\")\n",
    "\n",
    "    \n",
    "\n",
    "ap_plot, = plt.plot(soma, q_alpha, 'o', color=\"red\", label=\"Alpha\")\n",
    "mx_plot, = plt.plot(soma, q_maxwell, 'o', color=\"green\", label = \"maxwell\")\n",
    "axes = plt.gca()\n",
    "axes.set_ylim([500,3000])\n",
    "\n",
    "plt.legend(handles=[ap_plot, mx_plot])\n",
    "plt.plot((min(soma), max(soma)), (min(soma), max(soma)), '-')\n"
   ]
  },
  {
   "cell_type": "markdown",
   "metadata": {},
   "source": [
    "### Este Q-Q Plot não é dos melhores, mas o problema no caso é o conjunto de dados que é difícil de analisar por pdfs. Além disso, o erro quadrático abaixo mostra a discrepância dos valores.\n",
    "Disclaimer: foram testatos praticamente todos os modelos do Scipy e nenhum ficou melhor que isto"
   ]
  },
  {
   "cell_type": "code",
   "execution_count": 308,
   "metadata": {
    "collapsed": false
   },
   "outputs": [
    {
     "name": "stdout",
     "output_type": "stream",
     "text": [
      "Erro quadrático da alpha :19548877.783\n",
      "\n",
      "Erro quadrático da maxwell :15097439.115\n",
      "\n"
     ]
    }
   ],
   "source": [
    "erro_quadratico_alpha = sum((soma - q_alpha)**2)\n",
    "erro_quadratico_maxwell = sum((soma - q_maxwell)**2)\n",
    "\n",
    "print(\"Erro quadrático da alpha :{:4.3f}\\n\".format(erro_quadratico_alpha))\n",
    "print(\"Erro quadrático da maxwell :{:4.3f}\\n\".format(erro_quadratico_maxwell))\n"
   ]
  },
  {
   "cell_type": "markdown",
   "metadata": {},
   "source": [
    "### Se possível, os dados que possuem não ficam bem representados por nenhuma pdf disponível. Uma exceção talvez pudesse ser a scipy.kappa4, mas ela não existe na versão usada neste projeto, portanto foi uma das únicas a não ser testada.\n",
    "#### Todos eles conseguiram fazer uma boa curva sob o histograma, alguns com parametros alterado"
   ]
  },
  {
   "cell_type": "code",
   "execution_count": 310,
   "metadata": {
    "collapsed": true
   },
   "outputs": [],
   "source": [
    "#res = s.relfreq(soma, numbins=40)\n",
    "#res.frequency"
   ]
  },
  {
   "cell_type": "code",
   "execution_count": 309,
   "metadata": {
    "collapsed": false
   },
   "outputs": [],
   "source": [
    "#fig = plt.figure(figsize=(5, 4))\n",
    "#ax = fig.add_subplot(1, 1, 1)\n",
    "#ax.bar(x, res.frequency, width=res.binsize)\n",
    "#ax.set_title('Relative frequency histogram')\n",
    "#ax.set_xlim([x.min(), x.max()])"
   ]
  },
  {
   "cell_type": "markdown",
   "metadata": {},
   "source": [
    "___\n",
    "### Itens 10 e 11 - Resolução:"
   ]
  },
  {
   "cell_type": "code",
   "execution_count": null,
   "metadata": {
    "collapsed": true
   },
   "outputs": [],
   "source": []
  }
 ],
 "metadata": {
  "anaconda-cloud": {},
  "kernelspec": {
   "display_name": "Python 3",
   "language": "python",
   "name": "python3"
  },
  "language_info": {
   "codemirror_mode": {
    "name": "ipython",
    "version": 3
   },
   "file_extension": ".py",
   "mimetype": "text/x-python",
   "name": "python",
   "nbconvert_exporter": "python",
   "pygments_lexer": "ipython3",
   "version": "3.5.1"
  }
 },
 "nbformat": 4,
 "nbformat_minor": 0
}
